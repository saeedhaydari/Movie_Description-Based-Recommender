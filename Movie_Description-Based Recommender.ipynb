{
 "cells": [
  {
   "cell_type": "code",
   "execution_count": null,
   "metadata": {},
   "outputs": [],
   "source": [
    "# There are the steps we are going to perform in building this model:\n",
    "# 1. Obtained the data required to build the model\n",
    "# 2. Create TF-IDF vectors for the plot description of every movie\n",
    "# 3. Compute the pairwise cosine similarity score of evert movie\n",
    "# 4. Write the recommender function that takes in a movie title as an argument and outputs movies... \n",
    "# ...most similar to it based on the plot\n",
    "# این سیستم توصیه گر از کاربر یک فیلم را میگیرد و فیلم هایی که با این فیلم در ژانر بیشترین مشابهت را دارد برمیگرداند"
   ]
  },
  {
   "cell_type": "code",
   "execution_count": null,
   "metadata": {},
   "outputs": [],
   "source": [
    "import pandas as pd\n",
    "import numpy as np"
   ]
  },
  {
   "cell_type": "code",
   "execution_count": null,
   "metadata": {},
   "outputs": [],
   "source": [
    "data=pd.read_csv('movie_data.csv')\n",
    "data.head(2)"
   ]
  },
  {
   "cell_type": "code",
   "execution_count": null,
   "metadata": {},
   "outputs": [],
   "source": [
    "#Add the useful features into the dataframe\n",
    "\n",
    "#data['overview'], data['id'] = data['tag'], data['movieId']\n",
    "\n"
   ]
  },
  {
   "cell_type": "code",
   "execution_count": null,
   "metadata": {},
   "outputs": [],
   "source": [
    "from sklearn.feature_extraction.text import TfidfVectorizer\n",
    "\n",
    "# Define a TF-IDF Vectorizer object. Remove all english stopwords\n",
    "\n",
    "tfidf=TfidfVectorizer(stop_words='english')\n",
    "\n",
    "# Replace NaN with an empty string\n",
    "\n",
    "data['genres']=data['genres'].fillna('')\n",
    "\n",
    "# Construct the required TF-IDF matrix by applying the fit_transform method\n",
    "\n",
    "tfidf_matrix=tfidf.fit_transform(data['genres'])\n",
    "\n",
    "# Output the shape of tfidf_matrix\n",
    "\n",
    "tfidf_matrix.shape\n",
    "\n",
    "# تعداد سطرهای ماتریس برابر است با تعداد فیلم ها و تعداد ستونها تعداد کلمات مختلف استفاده شده در ستون ژانر است\n",
    "#Recommendation system with python رجوع شود به صفحه 109 کتاب \n",
    "# movie_name    comedy triller western action fantasy\n",
    "#  AAA            0        0      1       0      1\n",
    "#  BBB            0       1       0       1      0"
   ]
  },
  {
   "cell_type": "code",
   "execution_count": null,
   "metadata": {},
   "outputs": [],
   "source": [
    "# ماتریس مشابهت فیلم ها را می خواهیم ایجاد کنیم \n",
    "#یک ماتریس مربعی که تعداد سطر و ستون برابر تعداد فیلم هاست\n",
    "# و مثلا مقدار سطر سوم و ستون پنچم عددی است بین -1 و 1 \n",
    "#و هر چه این عدد بزرگتر باشد دو فیلم بیشتر در ژانر بهم شباهت دارند\n",
    "\n",
    "# Import linear_kernel to compute the dot product\n",
    "\n",
    "from sklearn.metrics.pairwise import linear_kernel\n",
    "\n",
    "# Compute the cosin similarity\n",
    "\n",
    "cosine_sim=linear_kernel(tfidf_matrix, tfidf_matrix)\n"
   ]
  },
  {
   "cell_type": "code",
   "execution_count": null,
   "metadata": {},
   "outputs": [],
   "source": [
    "# Construct a reverse mapping of indices and movie titles and drop duplicates\n",
    "\n",
    "indices=pd.Series(data.index, index=data['movie_title']).drop_duplicates()\n"
   ]
  },
  {
   "cell_type": "code",
   "execution_count": null,
   "metadata": {},
   "outputs": [],
   "source": [
    "# 1. Declare the title of the movie as an argument.\n",
    "# 2. Obtain the index of the movie from the indices reverse\n",
    "# mapping.\n",
    "# 3. Get the list of cosine similarity scores for that particular\n",
    "# movie with all movies using cosine_sim. Convert this into a\n",
    "# list of tuples where the first element is the position and\n",
    "# the second is the similarity score.\n",
    "# 4. Sort this list of tuples on the basis of the cosine\n",
    "# similarity scores.\n",
    "# 5. Get the top 10 elements of this list. Ignore the first\n",
    "# element as it refers to the similarity score with itself\n",
    "# the movie most similar to a particular movie is\n",
    "# obviously the movie itself).\n",
    "# 6. Return the titles corresponding to the indices of the top 10 elements, excluding the first:\n",
    "\n",
    "# Function that takes in movies title as input and gives recomendations\n",
    "\n",
    "def content_recommender(title, cosine_sim=cosine_sim, data=data, indices=indices):\n",
    "\n",
    "    # Obtain the index of the movie that matches the title\n",
    "    idx = indices[title]\n",
    "\n",
    "    # Get the pairwise similarity scores of all movies with that movie\n",
    "    # And convert it into a list of tuples as described above\n",
    "\n",
    "    sim_scores=list(enumerate(cosine_sim[idx]))\n",
    "\n",
    "    # Sort the movies based on the cosine similarity scores\n",
    "\n",
    "    sim_scores=sorted(sim_scores, key=lambda x: x[1], reverse=True).all()\n",
    "\n",
    "    # Get the scores of the 10 most similar movies, Ignore the first movie\n",
    "\n",
    "    sim_scores=sim_scores[1:11]\n",
    "\n",
    "    # Get the movie indices\n",
    "\n",
    "    movie_indices= [i[0] for i in sim_scores]\n",
    "\n",
    "    # Return the top 10 similar movies\n",
    "\n",
    "    return data['movie_title'].iloc[movie_indices]\n"
   ]
  },
  {
   "cell_type": "code",
   "execution_count": null,
   "metadata": {},
   "outputs": [],
   "source": [
    "# The content-based recommender is built\n",
    "# Now I want to ask it to recommendation of movies similar to Avatar'\n",
    "\n",
    "content_recommender('Avatar')"
   ]
  },
  {
   "cell_type": "code",
   "execution_count": null,
   "metadata": {},
   "outputs": [],
   "source": []
  }
 ],
 "metadata": {
  "anaconda-cloud": {},
  "kernelspec": {
   "display_name": "Python 3",
   "language": "python",
   "name": "python3"
  },
  "language_info": {
   "codemirror_mode": {
    "name": "ipython",
    "version": 3
   },
   "file_extension": ".py",
   "mimetype": "text/x-python",
   "name": "python",
   "nbconvert_exporter": "python",
   "pygments_lexer": "ipython3",
   "version": "3.7.2"
  }
 },
 "nbformat": 4,
 "nbformat_minor": 1
}
